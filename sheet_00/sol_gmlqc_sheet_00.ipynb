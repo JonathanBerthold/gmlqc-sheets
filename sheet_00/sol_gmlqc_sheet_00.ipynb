{
 "cells": [
  {
   "cell_type": "markdown",
   "metadata": {
    "id": "UDMXtYJL9CK1",
    "slideshow": {
     "slide_type": "slide"
    }
   },
   "source": [
    "# Exercise Sheet 0: PySCF"
   ]
  },
  {
   "cell_type": "markdown",
   "metadata": {
    "slideshow": {
     "slide_type": "slide"
    }
   },
   "source": [
    "- Excercise sheets will be published on Tuesday\n",
    "- Assign yourselves to groups in the Übungsgruppensystem\n",
    "- Please hand-in your solutions in groups of up to two people"
   ]
  },
  {
   "cell_type": "code",
   "execution_count": 1,
   "metadata": {
    "ExecuteTime": {
     "end_time": "2024-04-23T09:01:19.601061Z",
     "start_time": "2024-04-23T09:01:19.599300Z"
    },
    "slideshow": {
     "slide_type": "slide"
    }
   },
   "outputs": [],
   "source": [
    "# uncomment these commands if running in Google Colab\n",
    "# !pip install pyscf kora py3Dmol rdkit"
   ]
  },
  {
   "cell_type": "markdown",
   "metadata": {},
   "source": [
    "## Setup on local machine\n",
    "\n",
    "1. If you are using windows, install the Windows Subsystem for Linux (WSL) by following the instructions on (https://learn.microsoft.com/en-us/windows/wsl/install)\n",
    "2. Download `miniconda` from (https://docs.anaconda.com/free/miniconda/)\n",
    "3. Create the environment with the following command:\n",
    "    ```bash\n",
    "    conda create -n gmlqc pyscf py3Dmol rdkit notebook -c conda-forge -c pyscf\n",
    "    ```\n",
    "4. Activate the environment:\n",
    "\t```bash\n",
    "\tconda activate gmlqc\n",
    "\t```\n",
    "5. Start Jupyter notebook:\n",
    "\t```bash\n",
    "\tjupyter notebook\n",
    "\t```"
   ]
  },
  {
   "cell_type": "code",
   "execution_count": 2,
   "metadata": {
    "ExecuteTime": {
     "end_time": "2024-04-23T09:01:20.002079Z",
     "start_time": "2024-04-23T09:01:19.612979Z"
    },
    "colab": {
     "base_uri": "https://localhost:8080/"
    },
    "id": "w4Jrq0qy9AW7",
    "outputId": "7b86d20a-1c02-4a27-dd50-5bb4dfb901ba",
    "slideshow": {
     "slide_type": "slide"
    }
   },
   "outputs": [],
   "source": [
    "import numpy as np\n",
    "import pyscf\n",
    "from pyscf import dft, scf\n",
    "from matplotlib import pyplot as plt"
   ]
  },
  {
   "cell_type": "markdown",
   "metadata": {
    "slideshow": {
     "slide_type": "slide"
    }
   },
   "source": [
    "## Define the molecule"
   ]
  },
  {
   "cell_type": "code",
   "execution_count": 3,
   "metadata": {
    "ExecuteTime": {
     "end_time": "2024-04-23T09:01:20.005299Z",
     "start_time": "2024-04-23T09:01:20.002986Z"
    }
   },
   "outputs": [],
   "source": [
    "# define the geometry of the molecule\n",
    "water_str = \"O -0.0087 0.3953 -0.0000; \\\n",
    "              H 0.7976 -0.1944 0.0000; \\\n",
    "              H -0.7888 -0.2009 -0.000000\"  # in Angstrom"
   ]
  },
  {
   "cell_type": "code",
   "execution_count": 4,
   "metadata": {
    "ExecuteTime": {
     "end_time": "2024-04-23T09:01:20.085710Z",
     "start_time": "2024-04-23T09:01:20.006010Z"
    }
   },
   "outputs": [
    {
     "data": {
      "text/plain": [
       "array([8, 1, 1], dtype=int32)"
      ]
     },
     "execution_count": 4,
     "metadata": {},
     "output_type": "execute_result"
    }
   ],
   "source": [
    "# create the molecule object in PySCF\n",
    "water_mol = pyscf.M(atom=water_str)\n",
    "water_mol.atom_charges()"
   ]
  },
  {
   "cell_type": "code",
   "execution_count": 5,
   "metadata": {},
   "outputs": [
    {
     "data": {
      "text/plain": [
       "array([[-0.01644062,  0.74700874,  0.        ],\n",
       "       [ 1.50724556, -0.36736276,  0.        ],\n",
       "       [-1.49061597, -0.37964598,  0.        ]])"
      ]
     },
     "execution_count": 5,
     "metadata": {},
     "output_type": "execute_result"
    }
   ],
   "source": [
    "water_mol.atom_coords()"
   ]
  },
  {
   "cell_type": "markdown",
   "metadata": {
    "slideshow": {
     "slide_type": "slide"
    }
   },
   "source": [
    "## Run Koh-Sham DFT calculation"
   ]
  },
  {
   "cell_type": "code",
   "execution_count": 6,
   "metadata": {
    "ExecuteTime": {
     "end_time": "2024-04-23T09:01:21.177150Z",
     "start_time": "2024-04-23T09:01:20.089429Z"
    }
   },
   "outputs": [
    {
     "name": "stdout",
     "output_type": "stream",
     "text": [
      "converged SCF energy = -74.7372728379576\n"
     ]
    },
    {
     "data": {
      "text/plain": [
       "<pyscf.dft.rks.RKS at 0x7df5b9503290>"
      ]
     },
     "execution_count": 6,
     "metadata": {},
     "output_type": "execute_result"
    }
   ],
   "source": [
    "# run the restricted, closed-shell Kohn-Sham DFT calculation with default parameters\n",
    "mf = dft.RKS(water_mol)\n",
    "# set how verbose PySCF should log\n",
    "mf.verbose = 3\n",
    "mf.run()"
   ]
  },
  {
   "cell_type": "markdown",
   "metadata": {
    "slideshow": {
     "slide_type": "slide"
    }
   },
   "source": [
    "## Determine bond angle"
   ]
  },
  {
   "cell_type": "code",
   "execution_count": 7,
   "metadata": {
    "ExecuteTime": {
     "end_time": "2024-04-23T09:01:21.180814Z",
     "start_time": "2024-04-23T09:01:21.177892Z"
    }
   },
   "outputs": [
    {
     "name": "stdout",
     "output_type": "stream",
     "text": [
      "bond length 1.8715589196767817 bohr\n"
     ]
    }
   ],
   "source": [
    "coords = water_mol.atom_coords()\n",
    "l1 = np.linalg.norm(coords[0] - coords[1])\n",
    "l2 = np.linalg.norm(coords[0] - coords[2])\n",
    "l = 0.5 * (l1 + l2)\n",
    "print(f\"bond length {l} bohr\")"
   ]
  },
  {
   "cell_type": "code",
   "execution_count": 8,
   "metadata": {
    "ExecuteTime": {
     "end_time": "2024-04-23T09:04:44.248665Z",
     "start_time": "2024-04-23T09:04:16.281529Z"
    },
    "slideshow": {
     "slide_type": "-"
    }
   },
   "outputs": [],
   "source": [
    "angles = np.linspace(90, 110, 10)\n",
    "energies = []"
   ]
  },
  {
   "cell_type": "code",
   "execution_count": 9,
   "metadata": {
    "ExecuteTime": {
     "end_time": "2024-04-23T09:04:44.248665Z",
     "start_time": "2024-04-23T09:04:16.281529Z"
    },
    "slideshow": {
     "slide_type": "slide"
    }
   },
   "outputs": [
    {
     "name": "stdout",
     "output_type": "stream",
     "text": [
      "angle=90.0\n",
      "converged SCF energy = -75.9059342429441\n",
      "angle=92.22222222222223\n",
      "converged SCF energy = -75.9073677373065\n",
      "angle=94.44444444444444\n",
      "converged SCF energy = -75.90853493933\n",
      "angle=96.66666666666667\n",
      "converged SCF energy = -75.9094444114913\n",
      "angle=98.88888888888889\n",
      "converged SCF energy = -75.9101048007788\n",
      "angle=101.11111111111111\n",
      "converged SCF energy = -75.9105248249373\n",
      "angle=103.33333333333333\n",
      "converged SCF energy = -75.9107132051118\n",
      "angle=105.55555555555556\n",
      "converged SCF energy = -75.9106787098119\n",
      "angle=107.77777777777777\n",
      "converged SCF energy = -75.9104303188917\n",
      "angle=110.0\n",
      "converged SCF energy = -75.9099773788642\n"
     ]
    }
   ],
   "source": [
    "for angle in angles:\n",
    "    x = l * np.cos(angle * np.pi / 180)\n",
    "    y = l * np.sin(angle * np.pi / 180)\n",
    "    print(f\"{angle=}\")\n",
    "    \n",
    "    mol_angle = pyscf.M(atom=f\"O 0 0 0; H {l} 0 0; H {x} {y} 0\", unit=\"bohr\", basis=\"aug-cc-pVQZ\")\n",
    "    mf = dft.RKS(mol_angle)\n",
    "    mf.run()\n",
    "    energies.append(mf.e_tot)"
   ]
  },
  {
   "cell_type": "code",
   "execution_count": 10,
   "metadata": {
    "ExecuteTime": {
     "end_time": "2024-04-23T09:04:44.308447Z",
     "start_time": "2024-04-23T09:04:44.249560Z"
    },
    "slideshow": {
     "slide_type": "slide"
    }
   },
   "outputs": [
    {
     "data": {
      "image/png": "[encoded data removed]",
      "text/plain": [
       "<Figure size 640x480 with 1 Axes>"
      ]
     },
     "metadata": {},
     "output_type": "display_data"
    }
   ],
   "source": [
    "plt.plot(angles, energies)\n",
    "\n",
    "plt.xlabel(\"Angle (degrees)\")\n",
    "plt.ylabel(\"Energy (Hartree)\")\n",
    "plt.show()"
   ]
  },
  {
   "cell_type": "code",
   "execution_count": 11,
   "metadata": {
    "ExecuteTime": {
     "end_time": "2024-04-23T09:04:44.310576Z",
     "start_time": "2024-04-23T09:04:44.308908Z"
    },
    "slideshow": {
     "slide_type": "fragment"
    }
   },
   "outputs": [
    {
     "data": {
      "text/plain": [
       "103.33333333333333"
      ]
     },
     "execution_count": 11,
     "metadata": {},
     "output_type": "execute_result"
    }
   ],
   "source": [
    "angles[np.argmin(energies)]"
   ]
  },
  {
   "cell_type": "markdown",
   "metadata": {
    "slideshow": {
     "slide_type": "slide"
    }
   },
   "source": [
    "## MP2 and CISD calculations"
   ]
  },
  {
   "cell_type": "code",
   "execution_count": 12,
   "metadata": {
    "ExecuteTime": {
     "end_time": "2024-04-23T09:01:29.855479Z",
     "start_time": "2024-04-23T09:01:29.813565Z"
    },
    "slideshow": {
     "slide_type": "-"
    }
   },
   "outputs": [
    {
     "name": "stdout",
     "output_type": "stream",
     "text": [
      "converged SCF energy = -74.9639141278499\n"
     ]
    },
    {
     "data": {
      "text/plain": [
       "<pyscf.scf.hf.RHF at 0x7df5b95d0f50>"
      ]
     },
     "execution_count": 12,
     "metadata": {},
     "output_type": "execute_result"
    }
   ],
   "source": [
    "# Hartree Fock\n",
    "hf = scf.RHF(water_mol)\n",
    "hf.run()"
   ]
  },
  {
   "cell_type": "code",
   "execution_count": 13,
   "metadata": {
    "ExecuteTime": {
     "end_time": "2024-04-23T09:01:29.864200Z",
     "start_time": "2024-04-23T09:01:29.855917Z"
    },
    "slideshow": {
     "slide_type": "fragment"
    }
   },
   "outputs": [
    {
     "name": "stdout",
     "output_type": "stream",
     "text": [
      "E(MP2) = -75.0019384892733  E_corr = -0.0380243614234017\n",
      "E(SCS-MP2) = -75.0076576645136  E_corr = -0.0437435366636798\n"
     ]
    },
    {
     "data": {
      "text/plain": [
       "<pyscf.mp.mp2.MP2 at 0x7df5ba2f2910>"
      ]
     },
     "execution_count": 13,
     "metadata": {},
     "output_type": "execute_result"
    }
   ],
   "source": [
    "# MP2 calculation\n",
    "mp2 = hf.MP2()\n",
    "mp2.run()"
   ]
  },
  {
   "cell_type": "code",
   "execution_count": 14,
   "metadata": {
    "ExecuteTime": {
     "end_time": "2024-04-23T09:01:29.919888Z",
     "start_time": "2024-04-23T09:01:29.865044Z"
    },
    "slideshow": {
     "slide_type": "fragment"
    }
   },
   "outputs": [
    {
     "name": "stdout",
     "output_type": "stream",
     "text": [
      "E(RCISD) = -75.01660889619129  E_corr = -0.05269476834137694\n"
     ]
    },
    {
     "data": {
      "text/plain": [
       "<pyscf.ci.cisd.RCISD at 0x7df5b958ed50>"
      ]
     },
     "execution_count": 14,
     "metadata": {},
     "output_type": "execute_result"
    }
   ],
   "source": [
    "# CISD calculation\n",
    "ci = hf.CISD()\n",
    "ci.run()"
   ]
  }
 ],
 "metadata": {
  "colab": {
   "provenance": []
  },
  "kernelspec": {
   "display_name": "Python 3 (ipykernel)",
   "language": "python",
   "name": "python3"
  },
  "language_info": {
   "codemirror_mode": {
    "name": "ipython",
    "version": 3
   },
   "file_extension": ".py",
   "mimetype": "text/x-python",
   "name": "python",
   "nbconvert_exporter": "python",
   "pygments_lexer": "ipython3",
   "version": "3.11.9"
  }
 },
 "nbformat": 4,
 "nbformat_minor": 4
}
