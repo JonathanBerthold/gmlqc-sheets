{
 "cells": [
  {
   "cell_type": "markdown",
   "metadata": {
    "id": "UDMXtYJL9CK1"
   },
   "source": [
    "# Exercise Sheet 0: PySCF"
   ]
  },
  {
   "cell_type": "code",
   "execution_count": null,
   "metadata": {
    "ExecuteTime": {
     "end_time": "2024-04-23T09:01:19.601061Z",
     "start_time": "2024-04-23T09:01:19.599300Z"
    }
   },
   "outputs": [],
   "source": [
    "# uncomment these commands if running in Google Colab\n",
    "# !pip install pyscf kora py3Dmol rdkit"
   ]
  },
  {
   "cell_type": "markdown",
   "metadata": {},
   "source": [
    "## Setup on local machine\n",
    "\n",
    "1. If you are using windows, install the Windows Subsystem for Linux (WSL) by following the instructions on (https://learn.microsoft.com/en-us/windows/wsl/install)\n",
    "2. Download `miniconda` from (https://docs.anaconda.com/free/miniconda/)\n",
    "3. Create the environment with the following command:\n",
    "    ```bash\n",
    "    conda create -n gmlqc pyscf py3Dmol rdkit notebook -c conda-forge -c pyscf\n",
    "    ```\n",
    "4. Activate the environment:\n",
    "\t```bash\n",
    "\tconda activate gmlqc\n",
    "\t```\n",
    "5. Start the Jupyter notebook:\n",
    "\t```bash\n",
    "\tjupyter notebook\n",
    "\t```"
   ]
  },
  {
   "cell_type": "code",
   "execution_count": null,
   "metadata": {
    "ExecuteTime": {
     "end_time": "2024-04-23T09:01:20.002079Z",
     "start_time": "2024-04-23T09:01:19.612979Z"
    },
    "colab": {
     "base_uri": "https://localhost:8080/"
    },
    "id": "w4Jrq0qy9AW7",
    "outputId": "7b86d20a-1c02-4a27-dd50-5bb4dfb901ba"
   },
   "outputs": [],
   "source": [
    "import numpy as np\n",
    "import pyscf\n",
    "from pyscf import dft, scf\n",
    "from matplotlib import pyplot as plt"
   ]
  },
  {
   "cell_type": "markdown",
   "metadata": {},
   "source": [
    "## Define the molecule"
   ]
  },
  {
   "cell_type": "code",
   "execution_count": null,
   "metadata": {
    "ExecuteTime": {
     "end_time": "2024-04-23T09:01:20.005299Z",
     "start_time": "2024-04-23T09:01:20.002986Z"
    }
   },
   "outputs": [],
   "source": [
    "# define the geometry of the molecule\n",
    "water_str = \"O -0.0087 0.3953 -0.0000; \\\n",
    "              H 0.7976 -0.1944 0.0000; \\\n",
    "              H -0.7888 -0.2009 -0.0000;\""
   ]
  },
  {
   "cell_type": "markdown",
   "metadata": {},
   "source": [
    "## Run Koh-Sham DFT calculation"
   ]
  },
  {
   "cell_type": "code",
   "execution_count": null,
   "metadata": {},
   "outputs": [],
   "source": []
  },
  {
   "cell_type": "markdown",
   "metadata": {},
   "source": [
    "## Determine bond angle"
   ]
  },
  {
   "cell_type": "code",
   "execution_count": null,
   "metadata": {
    "ExecuteTime": {
     "end_time": "2024-04-23T09:04:44.248665Z",
     "start_time": "2024-04-23T09:04:16.281529Z"
    }
   },
   "outputs": [],
   "source": [
    "angles = np.linspace(90, 110, 10)\n",
    "energies = []"
   ]
  },
  {
   "cell_type": "code",
   "execution_count": null,
   "metadata": {
    "ExecuteTime": {
     "end_time": "2024-04-23T09:04:44.308447Z",
     "start_time": "2024-04-23T09:04:44.249560Z"
    }
   },
   "outputs": [],
   "source": [
    "plt.plot(angles, energies)\n",
    "\n",
    "plt.xlabel(\"Angle (degrees)\")\n",
    "plt.ylabel(\"Energy (Hartree)\")\n",
    "plt.show()"
   ]
  },
  {
   "cell_type": "markdown",
   "metadata": {},
   "source": [
    "## MP2 and CISD calculations"
   ]
  },
  {
   "cell_type": "code",
   "execution_count": null,
   "metadata": {},
   "outputs": [],
   "source": []
  }
 ],
 "metadata": {
  "colab": {
   "provenance": []
  },
  "kernelspec": {
   "display_name": "Python 3 (ipykernel)",
   "language": "python",
   "name": "python3"
  },
  "language_info": {
   "codemirror_mode": {
    "name": "ipython",
    "version": 3
   },
   "file_extension": ".py",
   "mimetype": "text/x-python",
   "name": "python",
   "nbconvert_exporter": "python",
   "pygments_lexer": "ipython3",
   "version": "3.11.9"
  }
 },
 "nbformat": 4,
 "nbformat_minor": 4
}
